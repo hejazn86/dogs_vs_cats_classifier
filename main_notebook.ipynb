{
  "nbformat": 4,
  "nbformat_minor": 0,
  "metadata": {
    "colab": {
      "name": "main_notebook.ipynb",
      "provenance": [],
      "collapsed_sections": [],
      "authorship_tag": "ABX9TyMS2HIQ8AFEH0eLrjyuVM0R",
      "include_colab_link": true
    },
    "kernelspec": {
      "name": "python3",
      "display_name": "Python 3"
    }
  },
  "cells": [
    {
      "cell_type": "markdown",
      "metadata": {
        "id": "view-in-github",
        "colab_type": "text"
      },
      "source": [
        "<a href=\"https://colab.research.google.com/github/hejazn86/dogs_vs_cats_classifier/blob/master/main_notebook.ipynb\" target=\"_parent\"><img src=\"https://colab.research.google.com/assets/colab-badge.svg\" alt=\"Open In Colab\"/></a>"
      ]
    },
    {
      "cell_type": "code",
      "metadata": {
        "id": "GBBAdrY3rpzi",
        "colab_type": "code",
        "colab": {
          "base_uri": "https://localhost:8080/",
          "height": 125
        },
        "outputId": "fc757532-47f4-40c1-cc55-d90ac0ec048b"
      },
      "source": [
        "from google.colab import drive\n",
        "drive.mount('/drive')\n"
      ],
      "execution_count": null,
      "outputs": [
        {
          "output_type": "stream",
          "text": [
            "Go to this URL in a browser: https://accounts.google.com/o/oauth2/auth?client_id=947318989803-6bn6qk8qdgf4n4g3pfee6491hc0brc4i.apps.googleusercontent.com&redirect_uri=urn%3aietf%3awg%3aoauth%3a2.0%3aoob&response_type=code&scope=email%20https%3a%2f%2fwww.googleapis.com%2fauth%2fdocs.test%20https%3a%2f%2fwww.googleapis.com%2fauth%2fdrive%20https%3a%2f%2fwww.googleapis.com%2fauth%2fdrive.photos.readonly%20https%3a%2f%2fwww.googleapis.com%2fauth%2fpeopleapi.readonly\n",
            "\n",
            "Enter your authorization code:\n",
            "··········\n",
            "Mounted at /drive\n"
          ],
          "name": "stdout"
        }
      ]
    },
    {
      "cell_type": "code",
      "metadata": {
        "id": "KI6iHT00zJ72",
        "colab_type": "code",
        "colab": {}
      },
      "source": [
        "import os\n",
        "\n",
        "\n",
        "path = '/drive/My Drive/python/cats_and_dogs_filtered'\n",
        "train_dir = os.path.join(path, 'train')\n",
        "val_dir = os.path.join(path, 'validation')\n",
        "train_dogs_dir = os.path.join(train_dir, 'dogs')\n",
        "train_cats_dir = os.path.join(train_dir, 'cats')\n",
        "val_dogs_dir = os.path.join(val_dir, 'dogs')\n",
        "val_cats_dir = os.path.join(val_dir, 'cats')\n",
        "\n",
        "#print(val_dogs_dir) \n"
      ],
      "execution_count": null,
      "outputs": []
    },
    {
      "cell_type": "code",
      "metadata": {
        "id": "WKxvlblj167h",
        "colab_type": "code",
        "colab": {}
      },
      "source": [
        "train_dogs_files = os.listdir(train_dogs_dir)\n",
        "train_cats_files = os.listdir(train_cats_dir)\n",
        "val_dogs_files = os.listdir(val_dogs_dir)\n",
        "val_cats_files = os.listdir(val_cats_dir)\n"
      ],
      "execution_count": null,
      "outputs": []
    },
    {
      "cell_type": "code",
      "metadata": {
        "id": "g42ucGzoHZih",
        "colab_type": "code",
        "colab": {}
      },
      "source": [
        "import tensorflow as tf\n",
        "\n",
        "classifier = tf.keras.models.Sequential([                                         \n",
        "tf.keras.layers.Conv2D(32, (3, 3), activation = 'relu', padding = 'same', input_shape = (150, 150, 3)),\n",
        "tf.keras.layers.MaxPool2D(pool_size = (2, 2), strides = (2, 2)),\n",
        "#tf.keras.layers.Dropout(0.2),\n",
        "tf.keras.layers.Conv2D(128, (3, 3), activation = 'relu', padding = 'same'),\n",
        "tf.keras.layers.MaxPool2D(pool_size = (2, 2), strides = (2, 2)),\n",
        "#tf.keras.layers.Dropout(0.2),\n",
        "tf.keras.layers.Conv2D(128, (3, 3), activation = 'relu', padding = 'same'),\n",
        "tf.keras.layers.MaxPool2D(pool_size = (3, 3), strides = (2, 2)),\n",
        "#tf.keras.layers.Dropout(0.2),\n",
        "tf.keras.layers.Flatten(),\n",
        "tf.keras.layers.Dense(512, activation = 'relu'),\n",
        "tf.keras.layers.Dropout(0.7), \n",
        "tf.keras.layers.Dense(1, activation = 'sigmoid')                                         \n",
        "])\n",
        "\n",
        "classifier.compile(optimizer = tf.keras.optimizers.Adam(lr=1e-4), loss = 'binary_crossentropy', metrics = ['acc'])"
      ],
      "execution_count": null,
      "outputs": []
    },
    {
      "cell_type": "markdown",
      "metadata": {
        "id": "282JhSnXMMLx",
        "colab_type": "text"
      },
      "source": [
        "from tensorflow.keras.preprocessing.image import ImageDataGenerator\n",
        "\n",
        "train_data_generator = ImageDataGenerator(rescale = 1/225)\n",
        "val_data_generator = ImageDataGenerator(rescale = 1/255)\n",
        "\n",
        "train_generator = train_data_generator.flow_from_directory(train_dir,\n",
        "                                                           target_size = (150, 150),\n",
        "                                                           batch_size = 100,\n",
        "                                                           class_mode = 'binary')\n",
        "val_generator = val_data_generator.flow_from_directory(val_dir,\n",
        "                                                       target_size = (150, 150),\n",
        "                                                       batch_size = 50,\n",
        "                                                       class_mode = 'binary')\n",
        "\n",
        "history = classifier.fit(train_generator,\n",
        "                         validation_data = val_generator,\n",
        "                         steps_per_epoch = 100,\n",
        "                         epochs = 30,\n",
        "                         verbose = 1,\n",
        "                         validation_steps = 50)\n",
        "\n",
        "print(train_generator[20].shape)"
      ]
    },
    {
      "cell_type": "code",
      "metadata": {
        "id": "fDuajJtkPRte",
        "colab_type": "code",
        "colab": {}
      },
      "source": [
        "from tensorflow.keras.preprocessing.image import ImageDataGenerator\n",
        "import numpy  as np\n",
        "\n",
        "train_data_generator = ImageDataGenerator(rescale= 1.0/255.0)\n",
        "\n",
        "val_data_generator = ImageDataGenerator(rescale= 1.0/ 255.0)\n",
        "\n",
        "\n",
        "train_generator = train_data_generator.flow_from_directory(train_dir,\n",
        "                                                           target_size = (150, 150),\n",
        "                                                           batch_size = 40,\n",
        "                                                           class_mode = 'binary')\n",
        "val_generator = val_data_generator.flow_from_directory(val_dir,\n",
        "                                                       target_size = (150, 150),\n",
        "                                                       batch_size = 20,\n",
        "                                                       class_mode = 'binary')\n",
        "\n",
        "print(train_generator.dtype)\n",
        "\n",
        "history = classifier.fit_generator(train_generator, steps_per_epoch = 50, epochs = 100, validation_data = val_generator, validation_steps = 50)\n",
        "\n",
        "classifier.summary()\n"
      ],
      "execution_count": null,
      "outputs": []
    },
    {
      "cell_type": "code",
      "metadata": {
        "id": "2PCzf5kjcZI8",
        "colab_type": "code",
        "colab": {}
      },
      "source": [
        "import matplotlib.pyplot as plt\n",
        "import numpy as np\n",
        "\n",
        "predicted = classifier.predict(val_generator)\n",
        "val_loss, val_acc = classifier.evaluate(val_generator, steps = 5)\n",
        "\n",
        "epochs = range(len(history.history['acc']))\n",
        "\n",
        "plt.figure(figsize = (12, 7))\n",
        "plt.subplot(121).plot(epochs, history.history['loss'], 'b*', label = 'Train_loss')\n",
        "plt.subplot(121).plot(epochs, history.history['val_loss'], 'r', label = 'Test_loss')\n",
        "plt.title('Model Loss')\n",
        "plt.xlabel('Epochs')\n",
        "plt.ylabel('Loss')\n",
        "plt.grid(True)\n",
        "plt.legend()\n",
        "\n",
        "plt.subplot(122).plot(epochs, history.history['acc'], 'b*', label = 'Train_accuracy')\n",
        "plt.subplot(122).plot(epochs, history.history['val_acc'], 'r', label = 'Test_accuracy')\n",
        "plt.title('Model Accuracy')\n",
        "plt.xlabel('Epochs')\n",
        "plt.ylabel('acc')\n",
        "plt.grid(True)\n",
        "plt.legend(['Train', 'Test'], loc = 'uper right')\n",
        "plt.show()"
      ],
      "execution_count": null,
      "outputs": []
    },
    {
      "cell_type": "code",
      "metadata": {
        "id": "K1VX7d3Lgi25",
        "colab_type": "code",
        "colab": {}
      },
      "source": [
        "import os\n",
        "import signal\n",
        " \n",
        "os.kill( os.getpid(), signal.SIGKILL)"
      ],
      "execution_count": null,
      "outputs": []
    }
  ]
}