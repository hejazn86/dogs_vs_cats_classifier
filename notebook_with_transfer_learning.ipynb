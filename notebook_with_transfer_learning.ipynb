{
  "nbformat": 4,
  "nbformat_minor": 0,
  "metadata": {
    "colab": {
      "name": "notebook_with_transfer_learning",
      "provenance": [],
      "collapsed_sections": [],
      "authorship_tag": "ABX9TyPBuUqTUdB73UjdoiUcZktS",
      "include_colab_link": true
    },
    "kernelspec": {
      "name": "python3",
      "display_name": "Python 3"
    }
  },
  "cells": [
    {
      "cell_type": "markdown",
      "metadata": {
        "id": "view-in-github",
        "colab_type": "text"
      },
      "source": [
        "<a href=\"https://colab.research.google.com/github/hejazn86/dogs_vs_cats_classifier/blob/master/notebook_with_transfer_learning.ipynb\" target=\"_parent\"><img src=\"https://colab.research.google.com/assets/colab-badge.svg\" alt=\"Open In Colab\"/></a>"
      ]
    },
    {
      "cell_type": "code",
      "metadata": {
        "id": "GBBAdrY3rpzi",
        "colab_type": "code",
        "colab": {}
      },
      "source": [
        "from google.colab import drive\n",
        "drive.mount('/drive')\n"
      ],
      "execution_count": null,
      "outputs": []
    },
    {
      "cell_type": "code",
      "metadata": {
        "id": "41Uear0IA5Qp",
        "colab_type": "code",
        "colab": {}
      },
      "source": [
        "from tensorflow.keras import layers , models\n",
        "from tensorflow.keras.applications.inception_v3 import InceptionV3\n",
        "from tensorflow.keras.optimizers import RMSprop\n",
        "\n",
        " \n",
        "pre_trained_model = InceptionV3(input_shape = (150, 150, 3),\n",
        "                                include_top = False,\n",
        "                                weights = 'imagenet')\n",
        "\n",
        "\n",
        "for layer in pre_trained_model.layers:\n",
        "  layer.trainable = False\n",
        "\n",
        "#pre_trained_model.summary()\n",
        "last_layer = pre_trained_model.get_layer('mixed10')\n",
        "print(last_layer.output_shape) \n",
        "last_output = last_layer.output\n",
        "\n",
        "\n",
        "x = layers.Flatten()(last_output)\n",
        "x = layers.Dense(1024, activation='relu')(x)\n",
        "x = layers.Dropout(0.2)(x)\n",
        "x = layers.Dense(1, activation='sigmoid')(x)\n",
        "\n",
        "classifier = models.Model(pre_trained_model.input, x)\n",
        "\n",
        "classifier.compile(loss='binary_crossentropy', optimizer=RMSprop(lr=1e-4), metrics=['accuracy'])"
      ],
      "execution_count": null,
      "outputs": []
    },
    {
      "cell_type": "code",
      "metadata": {
        "id": "JVfmiCWMHyWl",
        "colab_type": "code",
        "colab": {}
      },
      "source": [
        "import os\n",
        "import numpy as np\n",
        "\n",
        "directory = '/drive/My Drive/python/cats_and_dogs_filtered'\n",
        "train_dir = os.path.join(directory, 'train')\n",
        "val_dir = os.path.join(directory, 'validation')\n",
        "train_dogs_dir = os.path.join(train_dir, 'dogs')\n",
        "train_cats_dir = os.path.join(train_dir, 'cats')\n",
        "test_dogs_dir = os.path.join(val_dir, 'dogs')\n",
        "test_cats_dir = os.path.join(val_dir, 'cats')\n",
        "\n",
        "train_dog_files = os.listdir(train_dogs_dir)\n",
        "train_cat_files = os.listdir(train_cats_dir)\n",
        "test_dog_files = os.listdir(test_dogs_dir)\n",
        "test_cat_files = os.listdir(test_cats_dir)"
      ],
      "execution_count": null,
      "outputs": []
    },
    {
      "cell_type": "code",
      "metadata": {
        "id": "ielvOSN6IWgx",
        "colab_type": "code",
        "colab": {}
      },
      "source": [
        "from tensorflow.keras.preprocessing.image import ImageDataGenerator\n",
        "import numpy  as np\n",
        "\n",
        "train_data_generator = ImageDataGenerator(rescale= 1.0/255.0,\n",
        "                                          rotation_range = 40,\n",
        "                                          width_shift_range = 0.2,\n",
        "                                          height_shift_range = 0.2,\n",
        "                                          shear_range = 0.2,\n",
        "                                          zoom_range = 0.2,\n",
        "                                          horizontal_flip = True,\n",
        "                                          fill_mode = 'nearest')\n",
        "\n",
        "val_data_generator = ImageDataGenerator(rescale= 1.0/ 255.0)\n",
        "\n",
        "\n",
        "train_generator = train_data_generator.flow_from_directory(train_dir,\n",
        "                                                           target_size = (150, 150),\n",
        "                                                           batch_size = 40,\n",
        "                                                           class_mode = 'binary')\n",
        "val_generator = val_data_generator.flow_from_directory(val_dir,\n",
        "                                                       target_size = (150, 150),\n",
        "                                                       batch_size = 20,\n",
        "                                                       class_mode = 'binary')\n",
        "\n",
        "print(train_generator.dtype)\n"
      ],
      "execution_count": null,
      "outputs": []
    },
    {
      "cell_type": "code",
      "metadata": {
        "id": "hypzIHVLErcF",
        "colab_type": "code",
        "colab": {}
      },
      "source": [
        "history = classifier.fit_generator(train_generator, steps_per_epoch = 50, epochs = 20, validation_data = val_generator, validation_steps = 50)\n",
        "\n",
        "classifier.summary()\n",
        "\n"
      ],
      "execution_count": null,
      "outputs": []
    },
    {
      "cell_type": "code",
      "metadata": {
        "id": "VP1-KjRlJRUX",
        "colab_type": "code",
        "colab": {}
      },
      "source": [
        "\n",
        "predicted = classifier.predict(val_generator)\n",
        "val_loss, val_acc = classifier.evaluate(val_generator, steps = 5)\n",
        "\n",
        "\n",
        "import matplotlib.pyplot as plt\n",
        "import numpy as np\n",
        "\n",
        "epochs = range(len(history.history['acc']))\n",
        "\n",
        "plt.figure(figsize = (12, 7))\n",
        "plt.subplot(121).plot(epochs, history.history['loss'], 'b*', label = 'Train_loss')\n",
        "plt.subplot(121).plot(epochs, history.history['val_loss'], 'r', label = 'Test_loss')\n",
        "plt.title('Model Loss')\n",
        "plt.xlabel('Epochs')\n",
        "plt.ylabel('Loss')\n",
        "plt.grid(True)\n",
        "plt.legend()\n",
        "\n",
        "plt.subplot(122).plot(epochs, history.history['acc'], 'b*', label = 'Train_accuracy')\n",
        "plt.subplot(122).plot(epochs, history.history['val_acc'], 'r', label = 'Test_accuracy')\n",
        "plt.title('Model Accuracy')\n",
        "plt.xlabel('Epochs')\n",
        "plt.ylabel('acc')\n",
        "plt.grid(True)\n",
        "plt.legend(['Train', 'Test'], loc = 'uper right')\n",
        "plt.show()"
      ],
      "execution_count": null,
      "outputs": []
    },
    {
      "cell_type": "markdown",
      "metadata": {
        "id": "ts56_39vpdIp",
        "colab_type": "text"
      },
      "source": [
        ""
      ]
    }
  ]
}